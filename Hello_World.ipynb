{
  "nbformat": 4,
  "nbformat_minor": 0,
  "metadata": {
    "colab": {
      "name": "Hello World.ipynb",
      "provenance": [],
      "collapsed_sections": [],
      "include_colab_link": true
    },
    "kernelspec": {
      "name": "python3",
      "display_name": "Python 3"
    }
  },
  "cells": [
    {
      "cell_type": "markdown",
      "metadata": {
        "id": "view-in-github",
        "colab_type": "text"
      },
      "source": [
        "<a href=\"https://colab.research.google.com/github/antunessmongelo18/exemplocolaboratory/blob/main/Hello_World.ipynb\" target=\"_parent\"><img src=\"https://colab.research.google.com/assets/colab-badge.svg\" alt=\"Open In Colab\"/></a>"
      ]
    },
    {
      "cell_type": "code",
      "metadata": {
        "id": "ZtTlFT2_c34m",
        "colab": {
          "base_uri": "https://localhost:8080/"
        },
        "outputId": "f4ef74fb-d717-42ba-a567-955a18de0bfe"
      },
      "source": [
        "print(\"Hello World\")"
      ],
      "execution_count": null,
      "outputs": [
        {
          "output_type": "stream",
          "text": [
            "Hello World\n"
          ],
          "name": "stdout"
        }
      ]
    },
    {
      "cell_type": "markdown",
      "metadata": {
        "id": "IfsZKLZnxEU7"
      },
      "source": [
        "1. Crie um programa que calcule a soma de seis números inteiros. E que imprima o resultado com uma mensagem.😎"
      ]
    },
    {
      "cell_type": "code",
      "metadata": {
        "id": "E_ar9rjCyfMG"
      },
      "source": [
        "A, B = input(\"Insira dois números inteiros:\").split()\n",
        "C, D = input(\"Insira mais dois números inteiros:\").split()\n",
        "E, F = input(\"Insira mais dois números inteiros:\").split()\n",
        "A = int(A)\n",
        "B = int(B)\n",
        "C = int(C)\n",
        "D = int(D)\n",
        "E = int(E)\n",
        "F = int(F)\n",
        "Soma = A + B + C + D + E + F\n",
        "\n",
        "print(Soma)"
      ],
      "execution_count": null,
      "outputs": []
    },
    {
      "cell_type": "markdown",
      "metadata": {
        "id": "lGuPDmX95wZe"
      },
      "source": [
        "# Nova seção"
      ]
    },
    {
      "cell_type": "markdown",
      "metadata": {
        "id": "QUlYGmya5ULw"
      },
      "source": [
        "2. "
      ]
    }
  ]
}